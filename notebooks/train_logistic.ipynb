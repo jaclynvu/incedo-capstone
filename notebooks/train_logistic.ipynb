{
 "cells": [
  {
   "cell_type": "code",
   "execution_count": null,
   "id": "70462343",
   "metadata": {},
   "outputs": [
    {
     "ename": "",
     "evalue": "",
     "output_type": "error",
     "traceback": [
      "\u001b[1;31mFailed to start the Kernel. \n",
      "\u001b[1;31mUnable to start Kernel '.venv (Python 3.13.3)' due to a timeout waiting for the ports to get used. \n",
      "\u001b[1;31mView Jupyter <a href='command:jupyter.viewOutput'>log</a> for further details."
     ]
    }
   ],
   "source": [
    "from sklearn.linear_model import LogisticRegression\n",
    "from sklearn.model_selection import GridSearchCV\n",
    "from sklearn.metrics import classification_report, roc_auc_score\n",
    "import matplotlib.pyplot as plt\n",
    "import pandas as pd\n",
    "from sklearn.model_selection import train_test_split\n",
    "from sklearn.metrics import accuracy_score\n",
    "from sklearn.preprocessing import OneHotEncoder\n",
    "import numpy as np\n",
    "import matplotlib.pyplot as plt\n",
    "import seaborn as sns\n",
    "import pickle"
   ]
  },
  {
   "cell_type": "code",
   "execution_count": null,
   "id": "687b86cb",
   "metadata": {},
   "outputs": [],
   "source": []
  },
  {
   "cell_type": "code",
   "execution_count": null,
   "id": "7801a4ac",
   "metadata": {},
   "outputs": [],
   "source": [
    "# Read in iris_raw.csv\n",
    "df = pd.read_csv(\"../data/customer_raw.csv\")\n",
    "\n",
    "# Build X, y (target -> y), drop species if present\n",
    "y = df[\"churn\"]\n",
    "X = df.drop(columns=[\"churn\",'product_id','sale_id', 'customer_id', 'price', 'total_value','feedback_text'], errors=\"ignore\")"
   ]
  },
  {
   "cell_type": "code",
   "execution_count": null,
   "id": "36285d2c",
   "metadata": {},
   "outputs": [],
   "source": [
    "# one hot encode categorical variables\n",
    "categorical_cols = ['gender', 'region', 'segment', 'category', 'product_name', 'sentiment']\n",
    "ohe = OneHotEncoder(sparse_output=False, drop='first')\n",
    "X_categorical = ohe.fit_transform(X[categorical_cols])\n",
    "X_numerical = X.drop(columns=categorical_cols, errors=\"ignore\")\n",
    "# Combine numerical and categorical features\n",
    "X = pd.concat([X_numerical, pd.DataFrame(X_categorical, columns=ohe.get_feature_names_out(categorical_cols))], axis=1)\n",
    "X.head()"
   ]
  },
  {
   "cell_type": "code",
   "execution_count": null,
   "id": "42261eae",
   "metadata": {},
   "outputs": [],
   "source": [
    "# Convert date columns to datetime\n",
    "# Convert to datetime\n",
    "df[\"sale_date\"] = pd.to_datetime(df[\"sale_date\"], errors=\"coerce\")\n",
    "df[\"last_purchase_date\"] = pd.to_datetime(df[\"last_purchase_date\"], errors=\"coerce\")\n",
    "\n",
    "# Derive features (example)\n",
    "df[\"days_since_last_purchase\"] = (pd.Timestamp(\"today\") - df[\"last_purchase_date\"]).dt.days\n",
    "df[\"sale_year\"] = df[\"sale_date\"].dt.year\n",
    "df[\"sale_month\"] = df[\"sale_date\"].dt.month"
   ]
  },
  {
   "cell_type": "code",
   "execution_count": null,
   "id": "eef536d4",
   "metadata": {},
   "outputs": [],
   "source": [
    "# add the new features to X\n",
    "X[\"days_since_last_purchase\"] = df[\"days_since_last_purchase\"]\n",
    "X[\"sale_year\"] = df[\"sale_year\"]\n",
    "X[\"sale_month\"] = df[\"sale_month\"]\n",
    "# drop the original date columns\n",
    "X = X.drop(columns=[\"sale_date\", \"last_purchase_date\"], errors=\"ignore\")"
   ]
  },
  {
   "cell_type": "code",
   "execution_count": null,
   "id": "01c15b28",
   "metadata": {},
   "outputs": [],
   "source": [
    "X_train, X_test, y_train, y_test = train_test_split(X, y, test_size=0.2, random_state=42)"
   ]
  },
  {
   "cell_type": "code",
   "execution_count": null,
   "id": "f212db42",
   "metadata": {},
   "outputs": [],
   "source": [
    "log_model = LogisticRegression(max_iter=500, class_weight=\"balanced\")\n",
    "param_grid = {\"model__C\": [0.01, 0.1, 1, 10, 100]}\n",
    "search = GridSearchCV(pipe, param_grid, cv=5, scoring=\"roc_auc\")\n",
    "search.fit(X_train, y_train)\n",
    "print(\"Best C:\", search.best_params_)\n",
    "print(\"Best CV AUC:\", search.best_score_)\n"
   ]
  }
 ],
 "metadata": {
  "language_info": {
   "name": "python"
  }
 },
 "nbformat": 4,
 "nbformat_minor": 5
}
