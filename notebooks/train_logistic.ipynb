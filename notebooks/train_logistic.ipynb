{
 "cells": [
  {
   "cell_type": "code",
   "execution_count": 1,
   "id": "c2530f87",
   "metadata": {},
   "outputs": [],
   "source": [
    "import pandas as pd\n",
    "from sklearn.linear_model import LogisticRegression\n",
    "from sklearn.model_selection import train_test_split\n",
    "from sklearn.metrics import accuracy_score\n",
    "import pickle"
   ]
  },
  {
   "cell_type": "code",
   "execution_count": 10,
   "id": "6406b5bf",
   "metadata": {},
   "outputs": [],
   "source": [
    "# Read in iris_raw.csv\n",
    "df = pd.read_csv(\"../data/customer_raw.csv\")\n",
    "\n",
    "# Build X, y (target -> y), drop species if present\n",
    "y = df[\"churn\"]\n",
    "X = df.drop(columns=[\"churn\",'product_id','sale_id', 'customer_id', 'price', 'total_value'], errors=\"ignore\")"
   ]
  },
  {
   "cell_type": "code",
   "execution_count": 11,
   "id": "1552fa63",
   "metadata": {},
   "outputs": [
    {
     "data": {
      "text/html": [
       "<div>\n",
       "<style scoped>\n",
       "    .dataframe tbody tr th:only-of-type {\n",
       "        vertical-align: middle;\n",
       "    }\n",
       "\n",
       "    .dataframe tbody tr th {\n",
       "        vertical-align: top;\n",
       "    }\n",
       "\n",
       "    .dataframe thead th {\n",
       "        text-align: right;\n",
       "    }\n",
       "</style>\n",
       "<table border=\"1\" class=\"dataframe\">\n",
       "  <thead>\n",
       "    <tr style=\"text-align: right;\">\n",
       "      <th></th>\n",
       "      <th>product_name</th>\n",
       "      <th>category</th>\n",
       "      <th>quantity</th>\n",
       "      <th>sale_date</th>\n",
       "      <th>age</th>\n",
       "      <th>gender</th>\n",
       "      <th>region</th>\n",
       "      <th>segment</th>\n",
       "      <th>tenure_months</th>\n",
       "      <th>last_purchase_date</th>\n",
       "      <th>feedback_text</th>\n",
       "      <th>sentiment</th>\n",
       "      <th>log_price</th>\n",
       "      <th>log_total_value</th>\n",
       "    </tr>\n",
       "  </thead>\n",
       "  <tbody>\n",
       "    <tr>\n",
       "      <th>0</th>\n",
       "      <td>Desk</td>\n",
       "      <td>Furniture</td>\n",
       "      <td>2</td>\n",
       "      <td>2020-01-07</td>\n",
       "      <td>40</td>\n",
       "      <td>Female</td>\n",
       "      <td>West</td>\n",
       "      <td>Small Business</td>\n",
       "      <td>37</td>\n",
       "      <td>2023-04-04</td>\n",
       "      <td>Terrible experience, will not buy again.</td>\n",
       "      <td>Negative</td>\n",
       "      <td>9.392745</td>\n",
       "      <td>10.085851</td>\n",
       "    </tr>\n",
       "    <tr>\n",
       "      <th>1</th>\n",
       "      <td>Projector</td>\n",
       "      <td>Electronics</td>\n",
       "      <td>2</td>\n",
       "      <td>2023-11-10</td>\n",
       "      <td>50</td>\n",
       "      <td>Female</td>\n",
       "      <td>West</td>\n",
       "      <td>Corporate</td>\n",
       "      <td>44</td>\n",
       "      <td>2023-03-02</td>\n",
       "      <td>Excellent customer service.</td>\n",
       "      <td>Positive</td>\n",
       "      <td>10.714440</td>\n",
       "      <td>11.407576</td>\n",
       "    </tr>\n",
       "    <tr>\n",
       "      <th>2</th>\n",
       "      <td>Projector</td>\n",
       "      <td>Electronics</td>\n",
       "      <td>4</td>\n",
       "      <td>2022-07-04</td>\n",
       "      <td>33</td>\n",
       "      <td>Male</td>\n",
       "      <td>South</td>\n",
       "      <td>Corporate</td>\n",
       "      <td>25</td>\n",
       "      <td>2023-11-04</td>\n",
       "      <td>Product quality could be better.</td>\n",
       "      <td>Neutral</td>\n",
       "      <td>10.714440</td>\n",
       "      <td>12.100718</td>\n",
       "    </tr>\n",
       "    <tr>\n",
       "      <th>3</th>\n",
       "      <td>Monitor</td>\n",
       "      <td>Electronics</td>\n",
       "      <td>1</td>\n",
       "      <td>2023-10-18</td>\n",
       "      <td>41</td>\n",
       "      <td>Male</td>\n",
       "      <td>West</td>\n",
       "      <td>Consumer</td>\n",
       "      <td>56</td>\n",
       "      <td>2023-08-18</td>\n",
       "      <td>Delivery was late, not happy.</td>\n",
       "      <td>Positive</td>\n",
       "      <td>9.392745</td>\n",
       "      <td>9.392745</td>\n",
       "    </tr>\n",
       "    <tr>\n",
       "      <th>4</th>\n",
       "      <td>Desk</td>\n",
       "      <td>Furniture</td>\n",
       "      <td>4</td>\n",
       "      <td>2023-09-13</td>\n",
       "      <td>60</td>\n",
       "      <td>Female</td>\n",
       "      <td>West</td>\n",
       "      <td>Consumer</td>\n",
       "      <td>52</td>\n",
       "      <td>2023-05-14</td>\n",
       "      <td>Delivery was late, not happy.</td>\n",
       "      <td>Positive</td>\n",
       "      <td>9.392745</td>\n",
       "      <td>10.778977</td>\n",
       "    </tr>\n",
       "  </tbody>\n",
       "</table>\n",
       "</div>"
      ],
      "text/plain": [
       "  product_name     category  quantity   sale_date  age  gender region  \\\n",
       "0         Desk    Furniture         2  2020-01-07   40  Female   West   \n",
       "1    Projector  Electronics         2  2023-11-10   50  Female   West   \n",
       "2    Projector  Electronics         4  2022-07-04   33    Male  South   \n",
       "3      Monitor  Electronics         1  2023-10-18   41    Male   West   \n",
       "4         Desk    Furniture         4  2023-09-13   60  Female   West   \n",
       "\n",
       "          segment  tenure_months last_purchase_date  \\\n",
       "0  Small Business             37         2023-04-04   \n",
       "1       Corporate             44         2023-03-02   \n",
       "2       Corporate             25         2023-11-04   \n",
       "3        Consumer             56         2023-08-18   \n",
       "4        Consumer             52         2023-05-14   \n",
       "\n",
       "                              feedback_text sentiment  log_price  \\\n",
       "0  Terrible experience, will not buy again.  Negative   9.392745   \n",
       "1               Excellent customer service.  Positive  10.714440   \n",
       "2          Product quality could be better.   Neutral  10.714440   \n",
       "3             Delivery was late, not happy.  Positive   9.392745   \n",
       "4             Delivery was late, not happy.  Positive   9.392745   \n",
       "\n",
       "   log_total_value  \n",
       "0        10.085851  \n",
       "1        11.407576  \n",
       "2        12.100718  \n",
       "3         9.392745  \n",
       "4        10.778977  "
      ]
     },
     "execution_count": 11,
     "metadata": {},
     "output_type": "execute_result"
    }
   ],
   "source": [
    "X.head()"
   ]
  },
  {
   "cell_type": "code",
   "execution_count": 4,
   "id": "c277a470",
   "metadata": {},
   "outputs": [],
   "source": [
    "# Train/test split (80/20)\n",
    "X_train, X_test, y_train, y_test = train_test_split(\n",
    "    X, y, test_size=0.2, random_state=42\n",
    ")"
   ]
  },
  {
   "cell_type": "code",
   "execution_count": 5,
   "id": "08bed6c0",
   "metadata": {},
   "outputs": [
    {
     "ename": "ValueError",
     "evalue": "could not convert string to float: 'S001468'",
     "output_type": "error",
     "traceback": [
      "\u001b[31m---------------------------------------------------------------------------\u001b[39m",
      "\u001b[31mValueError\u001b[39m                                Traceback (most recent call last)",
      "\u001b[32m/var/folders/jr/s_54rkyn1z7fjky0scbqj1n00000gn/T/ipykernel_16882/256422878.py\u001b[39m in \u001b[36m?\u001b[39m\u001b[34m()\u001b[39m\n\u001b[32m      1\u001b[39m \u001b[38;5;66;03m# Train model (LogisticRegression)\u001b[39;00m\n\u001b[32m      2\u001b[39m log_model = LogisticRegression(max_iter=\u001b[32m200\u001b[39m)\n\u001b[32m----> \u001b[39m\u001b[32m3\u001b[39m log_model.fit(X_train, y_train)\n",
      "\u001b[32m~/Desktop/incedo-capstone/incedo-capstone/.venv/lib/python3.13/site-packages/sklearn/base.py\u001b[39m in \u001b[36m?\u001b[39m\u001b[34m(estimator, *args, **kwargs)\u001b[39m\n\u001b[32m   1361\u001b[39m                 skip_parameter_validation=(\n\u001b[32m   1362\u001b[39m                     prefer_skip_nested_validation \u001b[38;5;28;01mor\u001b[39;00m global_skip_validation\n\u001b[32m   1363\u001b[39m                 )\n\u001b[32m   1364\u001b[39m             ):\n\u001b[32m-> \u001b[39m\u001b[32m1365\u001b[39m                 \u001b[38;5;28;01mreturn\u001b[39;00m fit_method(estimator, *args, **kwargs)\n",
      "\u001b[32m~/Desktop/incedo-capstone/incedo-capstone/.venv/lib/python3.13/site-packages/sklearn/linear_model/_logistic.py\u001b[39m in \u001b[36m?\u001b[39m\u001b[34m(self, X, y, sample_weight)\u001b[39m\n\u001b[32m   1243\u001b[39m             _dtype = np.float64\n\u001b[32m   1244\u001b[39m         \u001b[38;5;28;01melse\u001b[39;00m:\n\u001b[32m   1245\u001b[39m             _dtype = [np.float64, np.float32]\n\u001b[32m   1246\u001b[39m \n\u001b[32m-> \u001b[39m\u001b[32m1247\u001b[39m         X, y = validate_data(\n\u001b[32m   1248\u001b[39m             self,\n\u001b[32m   1249\u001b[39m             X,\n\u001b[32m   1250\u001b[39m             y,\n",
      "\u001b[32m~/Desktop/incedo-capstone/incedo-capstone/.venv/lib/python3.13/site-packages/sklearn/utils/validation.py\u001b[39m in \u001b[36m?\u001b[39m\u001b[34m(_estimator, X, y, reset, validate_separately, skip_check_array, **check_params)\u001b[39m\n\u001b[32m   2967\u001b[39m             \u001b[38;5;28;01mif\u001b[39;00m \u001b[33m\"estimator\"\u001b[39m \u001b[38;5;28;01mnot\u001b[39;00m \u001b[38;5;28;01min\u001b[39;00m check_y_params:\n\u001b[32m   2968\u001b[39m                 check_y_params = {**default_check_params, **check_y_params}\n\u001b[32m   2969\u001b[39m             y = check_array(y, input_name=\u001b[33m\"y\"\u001b[39m, **check_y_params)\n\u001b[32m   2970\u001b[39m         \u001b[38;5;28;01melse\u001b[39;00m:\n\u001b[32m-> \u001b[39m\u001b[32m2971\u001b[39m             X, y = check_X_y(X, y, **check_params)\n\u001b[32m   2972\u001b[39m         out = X, y\n\u001b[32m   2973\u001b[39m \n\u001b[32m   2974\u001b[39m     \u001b[38;5;28;01mif\u001b[39;00m \u001b[38;5;28;01mnot\u001b[39;00m no_val_X \u001b[38;5;28;01mand\u001b[39;00m check_params.get(\u001b[33m\"ensure_2d\"\u001b[39m, \u001b[38;5;28;01mTrue\u001b[39;00m):\n",
      "\u001b[32m~/Desktop/incedo-capstone/incedo-capstone/.venv/lib/python3.13/site-packages/sklearn/utils/validation.py\u001b[39m in \u001b[36m?\u001b[39m\u001b[34m(X, y, accept_sparse, accept_large_sparse, dtype, order, copy, force_writeable, force_all_finite, ensure_all_finite, ensure_2d, allow_nd, multi_output, ensure_min_samples, ensure_min_features, y_numeric, estimator)\u001b[39m\n\u001b[32m   1364\u001b[39m         )\n\u001b[32m   1365\u001b[39m \n\u001b[32m   1366\u001b[39m     ensure_all_finite = _deprecate_force_all_finite(force_all_finite, ensure_all_finite)\n\u001b[32m   1367\u001b[39m \n\u001b[32m-> \u001b[39m\u001b[32m1368\u001b[39m     X = check_array(\n\u001b[32m   1369\u001b[39m         X,\n\u001b[32m   1370\u001b[39m         accept_sparse=accept_sparse,\n\u001b[32m   1371\u001b[39m         accept_large_sparse=accept_large_sparse,\n",
      "\u001b[32m~/Desktop/incedo-capstone/incedo-capstone/.venv/lib/python3.13/site-packages/sklearn/utils/validation.py\u001b[39m in \u001b[36m?\u001b[39m\u001b[34m(array, accept_sparse, accept_large_sparse, dtype, order, copy, force_writeable, force_all_finite, ensure_all_finite, ensure_non_negative, ensure_2d, allow_nd, ensure_min_samples, ensure_min_features, estimator, input_name)\u001b[39m\n\u001b[32m   1050\u001b[39m                         )\n\u001b[32m   1051\u001b[39m                     array = xp.astype(array, dtype, copy=\u001b[38;5;28;01mFalse\u001b[39;00m)\n\u001b[32m   1052\u001b[39m                 \u001b[38;5;28;01melse\u001b[39;00m:\n\u001b[32m   1053\u001b[39m                     array = _asarray_with_order(array, order=order, dtype=dtype, xp=xp)\n\u001b[32m-> \u001b[39m\u001b[32m1054\u001b[39m             \u001b[38;5;28;01mexcept\u001b[39;00m ComplexWarning \u001b[38;5;28;01mas\u001b[39;00m complex_warning:\n\u001b[32m   1055\u001b[39m                 raise ValueError(\n\u001b[32m   1056\u001b[39m                     \u001b[33m\"Complex data not supported\\n{}\\n\"\u001b[39m.format(array)\n\u001b[32m   1057\u001b[39m                 ) \u001b[38;5;28;01mfrom\u001b[39;00m complex_warning\n",
      "\u001b[32m~/Desktop/incedo-capstone/incedo-capstone/.venv/lib/python3.13/site-packages/sklearn/utils/_array_api.py\u001b[39m in \u001b[36m?\u001b[39m\u001b[34m(array, dtype, order, copy, xp, device)\u001b[39m\n\u001b[32m    753\u001b[39m         \u001b[38;5;66;03m# Use NumPy API to support order\u001b[39;00m\n\u001b[32m    754\u001b[39m         \u001b[38;5;28;01mif\u001b[39;00m copy \u001b[38;5;28;01mis\u001b[39;00m \u001b[38;5;28;01mTrue\u001b[39;00m:\n\u001b[32m    755\u001b[39m             array = numpy.array(array, order=order, dtype=dtype)\n\u001b[32m    756\u001b[39m         \u001b[38;5;28;01melse\u001b[39;00m:\n\u001b[32m--> \u001b[39m\u001b[32m757\u001b[39m             array = numpy.asarray(array, order=order, dtype=dtype)\n\u001b[32m    758\u001b[39m \n\u001b[32m    759\u001b[39m         \u001b[38;5;66;03m# At this point array is a NumPy ndarray. We convert it to an array\u001b[39;00m\n\u001b[32m    760\u001b[39m         \u001b[38;5;66;03m# container that is consistent with the input's namespace.\u001b[39;00m\n",
      "\u001b[32m~/Desktop/incedo-capstone/incedo-capstone/.venv/lib/python3.13/site-packages/pandas/core/generic.py\u001b[39m in \u001b[36m?\u001b[39m\u001b[34m(self, dtype, copy)\u001b[39m\n\u001b[32m   2164\u001b[39m             )\n\u001b[32m   2165\u001b[39m         values = self._values\n\u001b[32m   2166\u001b[39m         \u001b[38;5;28;01mif\u001b[39;00m copy \u001b[38;5;28;01mis\u001b[39;00m \u001b[38;5;28;01mNone\u001b[39;00m:\n\u001b[32m   2167\u001b[39m             \u001b[38;5;66;03m# Note: branch avoids `copy=None` for NumPy 1.x support\u001b[39;00m\n\u001b[32m-> \u001b[39m\u001b[32m2168\u001b[39m             arr = np.asarray(values, dtype=dtype)\n\u001b[32m   2169\u001b[39m         \u001b[38;5;28;01melse\u001b[39;00m:\n\u001b[32m   2170\u001b[39m             arr = np.array(values, dtype=dtype, copy=copy)\n\u001b[32m   2171\u001b[39m \n",
      "\u001b[31mValueError\u001b[39m: could not convert string to float: 'S001468'"
     ]
    }
   ],
   "source": [
    "# Train model (LogisticRegression) \n",
    "log_model = LogisticRegression(max_iter=200)\n",
    "log_model.fit(X_train, y_train)\n"
   ]
  },
  {
   "cell_type": "code",
   "execution_count": 31,
   "id": "d66176d4",
   "metadata": {},
   "outputs": [
    {
     "name": "stdout",
     "output_type": "stream",
     "text": [
      "Accuracy: 1.0\n"
     ]
    }
   ],
   "source": [
    "# Predict + accuracy\n",
    "y_pred = log_model.predict(X_test)\n",
    "acc = accuracy_score(y_test, y_pred)\n",
    "\n",
    "print(\"Accuracy:\", acc)"
   ]
  },
  {
   "cell_type": "code",
   "execution_count": 32,
   "id": "32ea684e",
   "metadata": {},
   "outputs": [
    {
     "name": "stdout",
     "output_type": "stream",
     "text": [
      "Model saved to models/logistic_model.pkl\n"
     ]
    }
   ],
   "source": [
    "with open(\"../models/logistic_model.pkl\", \"wb\") as f:\n",
    "    pickle.dump(log_model, f)\n",
    "\n",
    "print(\"Model saved to models/logistic_model.pkl\")"
   ]
  }
 ],
 "metadata": {
  "kernelspec": {
   "display_name": ".venv",
   "language": "python",
   "name": "python3"
  },
  "language_info": {
   "codemirror_mode": {
    "name": "ipython",
    "version": 3
   },
   "file_extension": ".py",
   "mimetype": "text/x-python",
   "name": "python",
   "nbconvert_exporter": "python",
   "pygments_lexer": "ipython3",
   "version": "3.13.3"
  }
 },
 "nbformat": 4,
 "nbformat_minor": 5
}
