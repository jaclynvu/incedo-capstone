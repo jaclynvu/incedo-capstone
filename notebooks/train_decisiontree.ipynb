{
 "cells": [
  {
   "cell_type": "code",
   "execution_count": null,
   "id": "f868a158",
   "metadata": {},
   "outputs": [
    {
     "ename": "",
     "evalue": "",
     "output_type": "error",
     "traceback": [
      "\u001b[1;31mFailed to start the Kernel. \n",
      "\u001b[1;31mUnable to start Kernel '.venv (Python 3.11.7)' due to a timeout waiting for the ports to get used. \n",
      "\u001b[1;31mView Jupyter <a href='command:jupyter.viewOutput'>log</a> for further details."
     ]
    }
   ],
   "source": [
    "from sklearn.tree import DecisionTreeClassifier, plot_tree\n",
    "from sklearn.metrics import classification_report, roc_auc_score\n",
    "import matplotlib.pyplot as plt\n",
    "import pandas as pd\n",
    "from sklearn.model_selection import train_test_split\n",
    "from sklearn.metrics import accuracy_score\n",
    "from sklearn.preprocessing import OneHotEncoder\n",
    "import numpy as np\n",
    "import matplotlib.pyplot as plt\n",
    "import seaborn as sns\n",
    "import pickle"
   ]
  },
  {
   "cell_type": "code",
   "execution_count": null,
   "id": "80692aa3",
   "metadata": {},
   "outputs": [
    {
     "ename": "",
     "evalue": "",
     "output_type": "error",
     "traceback": [
      "\u001b[1;31mFailed to start the Kernel. \n",
      "\u001b[1;31mUnable to start Kernel '.venv (Python 3.13.3)' due to a timeout waiting for the ports to get used. \n",
      "\u001b[1;31mView Jupyter <a href='command:jupyter.viewOutput'>log</a> for further details."
     ]
    }
   ],
   "source": [
    "# Read in iris_raw.csv\n",
    "df = pd.read_csv(\"../data/customer_raw.csv\")\n",
    "\n",
    "# Build X, y (target -> y), drop species if present\n",
    "y = df[\"churn\"]\n",
    "X = df.drop(columns=[\"churn\",'product_id','sale_id', 'customer_id', 'price', 'total_value','feedback_text'], errors=\"ignore\")"
   ]
  },
  {
   "cell_type": "code",
   "execution_count": null,
   "id": "7b1cb429",
   "metadata": {},
   "outputs": [
    {
     "ename": "",
     "evalue": "",
     "output_type": "error",
     "traceback": [
      "\u001b[1;31mFailed to start the Kernel. \n",
      "\u001b[1;31mUnable to start Kernel '.venv (Python 3.13.3)' due to a timeout waiting for the ports to get used. \n",
      "\u001b[1;31mView Jupyter <a href='command:jupyter.viewOutput'>log</a> for further details."
     ]
    }
   ],
   "source": [
    "# one hot encode categorical variables\n",
    "categorical_cols = ['gender', 'region', 'segment', 'category', 'product_name', 'sentiment']\n",
    "ohe = OneHotEncoder(sparse_output=False, drop='first')\n",
    "X_categorical = ohe.fit_transform(X[categorical_cols])\n",
    "X_numerical = X.drop(columns=categorical_cols, errors=\"ignore\")\n",
    "# Combine numerical and categorical features\n",
    "X = pd.concat([X_numerical, pd.DataFrame(X_categorical, columns=ohe.get_feature_names_out(categorical_cols))], axis=1)\n",
    "X.head()"
   ]
  },
  {
   "cell_type": "code",
   "execution_count": null,
   "id": "aa15d6b3",
   "metadata": {},
   "outputs": [
    {
     "ename": "",
     "evalue": "",
     "output_type": "error",
     "traceback": [
      "\u001b[1;31mFailed to start the Kernel. \n",
      "\u001b[1;31mUnable to start Kernel '.venv (Python 3.13.3)' due to a timeout waiting for the ports to get used. \n",
      "\u001b[1;31mView Jupyter <a href='command:jupyter.viewOutput'>log</a> for further details."
     ]
    }
   ],
   "source": [
    "# Convert date columns to datetime\n",
    "# Convert to datetime\n",
    "df[\"sale_date\"] = pd.to_datetime(df[\"sale_date\"], errors=\"coerce\")\n",
    "df[\"last_purchase_date\"] = pd.to_datetime(df[\"last_purchase_date\"], errors=\"coerce\")\n",
    "\n",
    "# Derive features (example)\n",
    "df[\"days_since_last_purchase\"] = (pd.Timestamp(\"today\") - df[\"last_purchase_date\"]).dt.days\n",
    "df[\"sale_year\"] = df[\"sale_date\"].dt.year\n",
    "df[\"sale_month\"] = df[\"sale_date\"].dt.month"
   ]
  },
  {
   "cell_type": "code",
   "execution_count": null,
   "id": "516be641",
   "metadata": {},
   "outputs": [
    {
     "ename": "",
     "evalue": "",
     "output_type": "error",
     "traceback": [
      "\u001b[1;31mFailed to start the Kernel. \n",
      "\u001b[1;31mUnable to start Kernel '.venv (Python 3.13.3)' due to a timeout waiting for the ports to get used. \n",
      "\u001b[1;31mView Jupyter <a href='command:jupyter.viewOutput'>log</a> for further details."
     ]
    }
   ],
   "source": [
    "# add the new features to X\n",
    "X[\"days_since_last_purchase\"] = df[\"days_since_last_purchase\"]\n",
    "X[\"sale_year\"] = df[\"sale_year\"]\n",
    "X[\"sale_month\"] = df[\"sale_month\"]\n",
    "# drop the original date columns\n",
    "X = X.drop(columns=[\"sale_date\", \"last_purchase_date\"], errors=\"ignore\")"
   ]
  },
  {
   "cell_type": "code",
   "execution_count": null,
   "id": "cc460909",
   "metadata": {},
   "outputs": [],
   "source": [
    "X_train, X_test, y_train, y_test = train_test_split(X, y, test_size=0.2, random_state=42)"
   ]
  },
  {
   "cell_type": "code",
   "execution_count": null,
   "id": "4710dacd",
   "metadata": {},
   "outputs": [],
   "source": [
    "\n",
    "\n",
    "# Train/test split already done (X_train, X_test, y_train, y_test)\n",
    "\n",
    "# Build tree (class_weight balances churn vs non-churn)\n",
    "dt = DecisionTreeClassifier(\n",
    "    max_depth=5,          # limit depth to avoid overfitting\n",
    "    min_samples_split=20, # minimum samples to split\n",
    "    class_weight=\"balanced\",\n",
    "    random_state=42\n",
    ")\n",
    "\n",
    "# Fit model\n",
    "dt.fit(X_train, y_train)\n",
    "\n",
    "# Evaluate\n",
    "y_pred = dt.predict(X_test)\n",
    "y_prob = dt.predict_proba(X_test)[:,1]\n",
    "\n",
    "print(\"ROC AUC:\", roc_auc_score(y_test, y_prob))\n",
    "print(classification_report(y_test, y_pred))\n",
    "\n",
    "# Visualize\n",
    "plt.figure(figsize=(20,8))\n",
    "plot_tree(dt, feature_names=X_train.columns, class_names=[\"No Churn\",\"Churn\"], filled=True)\n",
    "plt.show()\n"
   ]
  }
 ],
 "metadata": {
  "kernelspec": {
   "display_name": ".venv",
   "language": "python",
   "name": "python3"
  },
  "language_info": {
   "name": "python",
   "version": "3.11.7"
  }
 },
 "nbformat": 4,
 "nbformat_minor": 5
}
